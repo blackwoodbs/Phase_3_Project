{
 "cells": [
  {
   "cell_type": "markdown",
   "metadata": {},
   "source": [
    "# Classifying Waterpump Conditions\n",
    "\n",
    "##### Buisness Problem: \n",
    "\n",
    "The Tanzanian Ministry of Water is faced with the problem that many of the water pumps in the country require maintinance. The people of Tanzania rely on these water pumps to provide clean drinking water to their communities. The Tanzanian Ministry of Water if faced with time and resource contrainsts that they want to optimize useing a Machine Learning Model.\n"
   ]
  },
  {
   "cell_type": "code",
   "execution_count": 2,
   "metadata": {},
   "outputs": [],
   "source": [
    "import pandas as pd\n",
    "import numpy as np\n",
    "from sklearn.model_selection import train_test_split, cross_val_score, GridSearchCV\n",
    "from sklearn.tree import DecisionTreeClassifier\n",
    "from sklearn.ensemble import RandomForestClassifier\n",
    "from sklearn.svm import SVC\n",
    "from sklearn.metrics import (confusion_matrix, plot_confusion_matrix, accuracy_score, \n",
    "recall_score, precision_score, f1_score, classification_report, roc_auc_score)\n",
    "from sklearn.pipeline import Pipeline\n",
    "from sklearn.preprocessing import StandardScaler\n",
    "from sklearn.neighbors import KNeighborsClassifier\n",
    "from sklearn.naive_bayes import GaussianNB, BernoulliNB, CategoricalNB, ComplementNB, MultinomialNB\n",
    "from xgboost import XGBClassifier\n",
    "import matplotlib.pyplot as plt"
   ]
  },
  {
   "cell_type": "code",
   "execution_count": 8,
   "metadata": {
    "scrolled": true
   },
   "outputs": [],
   "source": [
    "# Loading the Modeling Data\n",
    "y = pd.read_csv('Data/0bf8bc6e-30d0-4c50-956a-603fc693d966.csv', index_col='id')\n",
    "X = pd.read_csv('Data/4910797b-ee55-40a7-8668-10efd5c1b960.csv', index_col='id')\n",
    "\n",
    "# Loading the Submission Data for 'Driven Data'\n",
    "X_final = pd.read_csv('Data/702ddfc5-68cd-4d1d-a0de-f5f566f76d91.csv')\n",
    "y_final = pd.read_csv('Data/SubmissionFormat.csv')"
   ]
  },
  {
   "cell_type": "markdown",
   "metadata": {},
   "source": [
    "#### Exploratory Data Analysis"
   ]
  },
  {
   "cell_type": "code",
   "execution_count": 4,
   "metadata": {
    "scrolled": true
   },
   "outputs": [
    {
     "data": {
      "text/html": [
       "<div>\n",
       "<style scoped>\n",
       "    .dataframe tbody tr th:only-of-type {\n",
       "        vertical-align: middle;\n",
       "    }\n",
       "\n",
       "    .dataframe tbody tr th {\n",
       "        vertical-align: top;\n",
       "    }\n",
       "\n",
       "    .dataframe thead th {\n",
       "        text-align: right;\n",
       "    }\n",
       "</style>\n",
       "<table border=\"1\" class=\"dataframe\">\n",
       "  <thead>\n",
       "    <tr style=\"text-align: right;\">\n",
       "      <th></th>\n",
       "      <th>amount_tsh</th>\n",
       "      <th>date_recorded</th>\n",
       "      <th>funder</th>\n",
       "      <th>gps_height</th>\n",
       "      <th>installer</th>\n",
       "      <th>longitude</th>\n",
       "      <th>latitude</th>\n",
       "      <th>wpt_name</th>\n",
       "      <th>num_private</th>\n",
       "      <th>basin</th>\n",
       "      <th>...</th>\n",
       "      <th>payment_type</th>\n",
       "      <th>water_quality</th>\n",
       "      <th>quality_group</th>\n",
       "      <th>quantity</th>\n",
       "      <th>quantity_group</th>\n",
       "      <th>source</th>\n",
       "      <th>source_type</th>\n",
       "      <th>source_class</th>\n",
       "      <th>waterpoint_type</th>\n",
       "      <th>waterpoint_type_group</th>\n",
       "    </tr>\n",
       "    <tr>\n",
       "      <th>id</th>\n",
       "      <th></th>\n",
       "      <th></th>\n",
       "      <th></th>\n",
       "      <th></th>\n",
       "      <th></th>\n",
       "      <th></th>\n",
       "      <th></th>\n",
       "      <th></th>\n",
       "      <th></th>\n",
       "      <th></th>\n",
       "      <th></th>\n",
       "      <th></th>\n",
       "      <th></th>\n",
       "      <th></th>\n",
       "      <th></th>\n",
       "      <th></th>\n",
       "      <th></th>\n",
       "      <th></th>\n",
       "      <th></th>\n",
       "      <th></th>\n",
       "      <th></th>\n",
       "    </tr>\n",
       "  </thead>\n",
       "  <tbody>\n",
       "    <tr>\n",
       "      <th>69572</th>\n",
       "      <td>6000.0</td>\n",
       "      <td>2011-03-14</td>\n",
       "      <td>Roman</td>\n",
       "      <td>1390</td>\n",
       "      <td>Roman</td>\n",
       "      <td>34.938093</td>\n",
       "      <td>-9.856322</td>\n",
       "      <td>none</td>\n",
       "      <td>0</td>\n",
       "      <td>Lake Nyasa</td>\n",
       "      <td>...</td>\n",
       "      <td>annually</td>\n",
       "      <td>soft</td>\n",
       "      <td>good</td>\n",
       "      <td>enough</td>\n",
       "      <td>enough</td>\n",
       "      <td>spring</td>\n",
       "      <td>spring</td>\n",
       "      <td>groundwater</td>\n",
       "      <td>communal standpipe</td>\n",
       "      <td>communal standpipe</td>\n",
       "    </tr>\n",
       "    <tr>\n",
       "      <th>8776</th>\n",
       "      <td>0.0</td>\n",
       "      <td>2013-03-06</td>\n",
       "      <td>Grumeti</td>\n",
       "      <td>1399</td>\n",
       "      <td>GRUMETI</td>\n",
       "      <td>34.698766</td>\n",
       "      <td>-2.147466</td>\n",
       "      <td>Zahanati</td>\n",
       "      <td>0</td>\n",
       "      <td>Lake Victoria</td>\n",
       "      <td>...</td>\n",
       "      <td>never pay</td>\n",
       "      <td>soft</td>\n",
       "      <td>good</td>\n",
       "      <td>insufficient</td>\n",
       "      <td>insufficient</td>\n",
       "      <td>rainwater harvesting</td>\n",
       "      <td>rainwater harvesting</td>\n",
       "      <td>surface</td>\n",
       "      <td>communal standpipe</td>\n",
       "      <td>communal standpipe</td>\n",
       "    </tr>\n",
       "    <tr>\n",
       "      <th>34310</th>\n",
       "      <td>25.0</td>\n",
       "      <td>2013-02-25</td>\n",
       "      <td>Lottery Club</td>\n",
       "      <td>686</td>\n",
       "      <td>World vision</td>\n",
       "      <td>37.460664</td>\n",
       "      <td>-3.821329</td>\n",
       "      <td>Kwa Mahundi</td>\n",
       "      <td>0</td>\n",
       "      <td>Pangani</td>\n",
       "      <td>...</td>\n",
       "      <td>per bucket</td>\n",
       "      <td>soft</td>\n",
       "      <td>good</td>\n",
       "      <td>enough</td>\n",
       "      <td>enough</td>\n",
       "      <td>dam</td>\n",
       "      <td>dam</td>\n",
       "      <td>surface</td>\n",
       "      <td>communal standpipe multiple</td>\n",
       "      <td>communal standpipe</td>\n",
       "    </tr>\n",
       "    <tr>\n",
       "      <th>67743</th>\n",
       "      <td>0.0</td>\n",
       "      <td>2013-01-28</td>\n",
       "      <td>Unicef</td>\n",
       "      <td>263</td>\n",
       "      <td>UNICEF</td>\n",
       "      <td>38.486161</td>\n",
       "      <td>-11.155298</td>\n",
       "      <td>Zahanati Ya Nanyumbu</td>\n",
       "      <td>0</td>\n",
       "      <td>Ruvuma / Southern Coast</td>\n",
       "      <td>...</td>\n",
       "      <td>never pay</td>\n",
       "      <td>soft</td>\n",
       "      <td>good</td>\n",
       "      <td>dry</td>\n",
       "      <td>dry</td>\n",
       "      <td>machine dbh</td>\n",
       "      <td>borehole</td>\n",
       "      <td>groundwater</td>\n",
       "      <td>communal standpipe multiple</td>\n",
       "      <td>communal standpipe</td>\n",
       "    </tr>\n",
       "    <tr>\n",
       "      <th>19728</th>\n",
       "      <td>0.0</td>\n",
       "      <td>2011-07-13</td>\n",
       "      <td>Action In A</td>\n",
       "      <td>0</td>\n",
       "      <td>Artisan</td>\n",
       "      <td>31.130847</td>\n",
       "      <td>-1.825359</td>\n",
       "      <td>Shuleni</td>\n",
       "      <td>0</td>\n",
       "      <td>Lake Victoria</td>\n",
       "      <td>...</td>\n",
       "      <td>never pay</td>\n",
       "      <td>soft</td>\n",
       "      <td>good</td>\n",
       "      <td>seasonal</td>\n",
       "      <td>seasonal</td>\n",
       "      <td>rainwater harvesting</td>\n",
       "      <td>rainwater harvesting</td>\n",
       "      <td>surface</td>\n",
       "      <td>communal standpipe</td>\n",
       "      <td>communal standpipe</td>\n",
       "    </tr>\n",
       "  </tbody>\n",
       "</table>\n",
       "<p>5 rows × 39 columns</p>\n",
       "</div>"
      ],
      "text/plain": [
       "       amount_tsh date_recorded        funder  gps_height     installer  \\\n",
       "id                                                                        \n",
       "69572      6000.0    2011-03-14         Roman        1390         Roman   \n",
       "8776          0.0    2013-03-06       Grumeti        1399       GRUMETI   \n",
       "34310        25.0    2013-02-25  Lottery Club         686  World vision   \n",
       "67743         0.0    2013-01-28        Unicef         263        UNICEF   \n",
       "19728         0.0    2011-07-13   Action In A           0       Artisan   \n",
       "\n",
       "       longitude   latitude              wpt_name  num_private  \\\n",
       "id                                                               \n",
       "69572  34.938093  -9.856322                  none            0   \n",
       "8776   34.698766  -2.147466              Zahanati            0   \n",
       "34310  37.460664  -3.821329           Kwa Mahundi            0   \n",
       "67743  38.486161 -11.155298  Zahanati Ya Nanyumbu            0   \n",
       "19728  31.130847  -1.825359               Shuleni            0   \n",
       "\n",
       "                         basin  ... payment_type water_quality  quality_group  \\\n",
       "id                              ...                                             \n",
       "69572               Lake Nyasa  ...     annually          soft           good   \n",
       "8776             Lake Victoria  ...    never pay          soft           good   \n",
       "34310                  Pangani  ...   per bucket          soft           good   \n",
       "67743  Ruvuma / Southern Coast  ...    never pay          soft           good   \n",
       "19728            Lake Victoria  ...    never pay          soft           good   \n",
       "\n",
       "           quantity quantity_group                source  \\\n",
       "id                                                         \n",
       "69572        enough         enough                spring   \n",
       "8776   insufficient   insufficient  rainwater harvesting   \n",
       "34310        enough         enough                   dam   \n",
       "67743           dry            dry           machine dbh   \n",
       "19728      seasonal       seasonal  rainwater harvesting   \n",
       "\n",
       "                source_type source_class              waterpoint_type  \\\n",
       "id                                                                      \n",
       "69572                spring  groundwater           communal standpipe   \n",
       "8776   rainwater harvesting      surface           communal standpipe   \n",
       "34310                   dam      surface  communal standpipe multiple   \n",
       "67743              borehole  groundwater  communal standpipe multiple   \n",
       "19728  rainwater harvesting      surface           communal standpipe   \n",
       "\n",
       "      waterpoint_type_group  \n",
       "id                           \n",
       "69572    communal standpipe  \n",
       "8776     communal standpipe  \n",
       "34310    communal standpipe  \n",
       "67743    communal standpipe  \n",
       "19728    communal standpipe  \n",
       "\n",
       "[5 rows x 39 columns]"
      ]
     },
     "execution_count": 4,
     "metadata": {},
     "output_type": "execute_result"
    }
   ],
   "source": [
    "X.head()"
   ]
  },
  {
   "cell_type": "code",
   "execution_count": 6,
   "metadata": {
    "scrolled": true
   },
   "outputs": [
    {
     "name": "stdout",
     "output_type": "stream",
     "text": [
      "<class 'pandas.core.frame.DataFrame'>\n",
      "Int64Index: 59400 entries, 69572 to 26348\n",
      "Data columns (total 39 columns):\n",
      " #   Column                 Non-Null Count  Dtype  \n",
      "---  ------                 --------------  -----  \n",
      " 0   amount_tsh             59400 non-null  float64\n",
      " 1   date_recorded          59400 non-null  object \n",
      " 2   funder                 55765 non-null  object \n",
      " 3   gps_height             59400 non-null  int64  \n",
      " 4   installer              55745 non-null  object \n",
      " 5   longitude              59400 non-null  float64\n",
      " 6   latitude               59400 non-null  float64\n",
      " 7   wpt_name               59400 non-null  object \n",
      " 8   num_private            59400 non-null  int64  \n",
      " 9   basin                  59400 non-null  object \n",
      " 10  subvillage             59029 non-null  object \n",
      " 11  region                 59400 non-null  object \n",
      " 12  region_code            59400 non-null  int64  \n",
      " 13  district_code          59400 non-null  int64  \n",
      " 14  lga                    59400 non-null  object \n",
      " 15  ward                   59400 non-null  object \n",
      " 16  population             59400 non-null  int64  \n",
      " 17  public_meeting         56066 non-null  object \n",
      " 18  recorded_by            59400 non-null  object \n",
      " 19  scheme_management      55523 non-null  object \n",
      " 20  scheme_name            31234 non-null  object \n",
      " 21  permit                 56344 non-null  object \n",
      " 22  construction_year      59400 non-null  int64  \n",
      " 23  extraction_type        59400 non-null  object \n",
      " 24  extraction_type_group  59400 non-null  object \n",
      " 25  extraction_type_class  59400 non-null  object \n",
      " 26  management             59400 non-null  object \n",
      " 27  management_group       59400 non-null  object \n",
      " 28  payment                59400 non-null  object \n",
      " 29  payment_type           59400 non-null  object \n",
      " 30  water_quality          59400 non-null  object \n",
      " 31  quality_group          59400 non-null  object \n",
      " 32  quantity               59400 non-null  object \n",
      " 33  quantity_group         59400 non-null  object \n",
      " 34  source                 59400 non-null  object \n",
      " 35  source_type            59400 non-null  object \n",
      " 36  source_class           59400 non-null  object \n",
      " 37  waterpoint_type        59400 non-null  object \n",
      " 38  waterpoint_type_group  59400 non-null  object \n",
      "dtypes: float64(3), int64(6), object(30)\n",
      "memory usage: 18.1+ MB\n"
     ]
    }
   ],
   "source": [
    "X.info()"
   ]
  },
  {
   "cell_type": "code",
   "execution_count": 7,
   "metadata": {},
   "outputs": [
    {
     "data": {
      "text/plain": [
       "status_group           \n",
       "functional                 0.543081\n",
       "non functional             0.384242\n",
       "functional needs repair    0.072677\n",
       "dtype: float64"
      ]
     },
     "execution_count": 7,
     "metadata": {},
     "output_type": "execute_result"
    }
   ],
   "source": [
    "y.value_counts(normalize=True)"
   ]
  },
  {
   "cell_type": "code",
   "execution_count": 16,
   "metadata": {
    "scrolled": true
   },
   "outputs": [
    {
     "data": {
      "text/html": [
       "<div>\n",
       "<style scoped>\n",
       "    .dataframe tbody tr th:only-of-type {\n",
       "        vertical-align: middle;\n",
       "    }\n",
       "\n",
       "    .dataframe tbody tr th {\n",
       "        vertical-align: top;\n",
       "    }\n",
       "\n",
       "    .dataframe thead th {\n",
       "        text-align: right;\n",
       "    }\n",
       "</style>\n",
       "<table border=\"1\" class=\"dataframe\">\n",
       "  <thead>\n",
       "    <tr style=\"text-align: right;\">\n",
       "      <th></th>\n",
       "      <th>codes</th>\n",
       "    </tr>\n",
       "    <tr>\n",
       "      <th>status_group</th>\n",
       "      <th></th>\n",
       "    </tr>\n",
       "  </thead>\n",
       "  <tbody>\n",
       "    <tr>\n",
       "      <th>functional</th>\n",
       "      <td>0</td>\n",
       "    </tr>\n",
       "    <tr>\n",
       "      <th>functional needs repair</th>\n",
       "      <td>1</td>\n",
       "    </tr>\n",
       "    <tr>\n",
       "      <th>non functional</th>\n",
       "      <td>1</td>\n",
       "    </tr>\n",
       "  </tbody>\n",
       "</table>\n",
       "</div>"
      ],
      "text/plain": [
       "                         codes\n",
       "status_group                  \n",
       "functional                   0\n",
       "functional needs repair      1\n",
       "non functional               1"
      ]
     },
     "execution_count": 16,
     "metadata": {},
     "output_type": "execute_result"
    }
   ],
   "source": [
    "# Applying labels to group 'non functional' and 'functional needs repair\t' as the target variable\n",
    "y['codes'] = y['status_group'].apply(lambda x: 0 if x == 'functional' else 1)\n",
    "\n",
    "# Checking to ensure labeling worked properly\n",
    "y.groupby('status_group').mean()"
   ]
  },
  {
   "cell_type": "markdown",
   "metadata": {},
   "source": [
    "* Analyzed columns using value count to get a sense for the distribution and cleanliness of the data."
   ]
  },
  {
   "cell_type": "code",
   "execution_count": 17,
   "metadata": {
    "scrolled": true
   },
   "outputs": [
    {
     "data": {
      "text/plain": [
       "Index(['amount_tsh', 'date_recorded', 'funder', 'gps_height', 'installer',\n",
       "       'longitude', 'latitude', 'wpt_name', 'num_private', 'basin',\n",
       "       'subvillage', 'region', 'region_code', 'district_code', 'lga', 'ward',\n",
       "       'population', 'public_meeting', 'recorded_by', 'scheme_management',\n",
       "       'scheme_name', 'permit', 'construction_year', 'extraction_type',\n",
       "       'extraction_type_group', 'extraction_type_class', 'management',\n",
       "       'management_group', 'payment', 'payment_type', 'water_quality',\n",
       "       'quality_group', 'quantity', 'quantity_group', 'source', 'source_type',\n",
       "       'source_class', 'waterpoint_type', 'waterpoint_type_group'],\n",
       "      dtype='object')"
      ]
     },
     "execution_count": 17,
     "metadata": {},
     "output_type": "execute_result"
    }
   ],
   "source": [
    "X.columns"
   ]
  },
  {
   "cell_type": "code",
   "execution_count": 18,
   "metadata": {
    "scrolled": false
   },
   "outputs": [
    {
     "data": {
      "text/plain": [
       "quality_group\n",
       "good        50818\n",
       "salty        5195\n",
       "unknown      1876\n",
       "milky         804\n",
       "colored       490\n",
       "fluoride      217\n",
       "dtype: int64"
      ]
     },
     "execution_count": 18,
     "metadata": {},
     "output_type": "execute_result"
    }
   ],
   "source": [
    "# Example of Data used\n",
    "X.value_counts('quality_group')"
   ]
  },
  {
   "cell_type": "code",
   "execution_count": 20,
   "metadata": {},
   "outputs": [
    {
     "data": {
      "text/plain": [
       "ward\n",
       "Igosi        307\n",
       "Imalinyi     252\n",
       "Siha Kati    232\n",
       "Mdandu       231\n",
       "Nduruma      217\n",
       "            ... \n",
       "Korongoni      1\n",
       "Mlimani        1\n",
       "Ikweha         1\n",
       "Uchindile      1\n",
       "Ifinga         1\n",
       "Length: 2092, dtype: int64"
      ]
     },
     "execution_count": 20,
     "metadata": {},
     "output_type": "execute_result"
    }
   ],
   "source": [
    "# Example of Data not used\n",
    "# A lot of individual values (value_counts = 1) which complicates the dataset using One Hot Encoding, and doesn't give good information to seperation of the data.\n",
    "X.value_counts('ward')"
   ]
  },
  {
   "cell_type": "code",
   "execution_count": 23,
   "metadata": {},
   "outputs": [],
   "source": [
    "# Identified \n",
    "col_used = ['basin',\n",
    "           'source_type',\n",
    "           'waterpoint_type_group',\n",
    "           'quantity_group',\n",
    "           'region',\n",
    "           'quality_group',\n",
    "           'payment_type',\n",
    "           'extraction_type_class',\n",
    "           'permit', \n",
    "           'management', \n",
    "           'lga'] "
   ]
  },
  {
   "cell_type": "code",
   "execution_count": 25,
   "metadata": {},
   "outputs": [
    {
     "data": {
      "text/plain": [
       "id\n",
       "69572        functional\n",
       "8776         functional\n",
       "34310        functional\n",
       "67743    non functional\n",
       "19728        functional\n",
       "              ...      \n",
       "60739        functional\n",
       "27263        functional\n",
       "37057        functional\n",
       "31282        functional\n",
       "26348        functional\n",
       "Name: status_group, Length: 59400, dtype: object"
      ]
     },
     "execution_count": 25,
     "metadata": {},
     "output_type": "execute_result"
    }
   ],
   "source": [
    "target"
   ]
  },
  {
   "cell_type": "markdown",
   "metadata": {},
   "source": [
    "* Splitting the data"
   ]
  },
  {
   "cell_type": "code",
   "execution_count": 26,
   "metadata": {},
   "outputs": [],
   "source": [
    "data = pd.get_dummies(X[col_used]) # One Hot Encoding for data features (Used for Categorical Variables, ie. all of the data) \n",
    "target = y.codes\n",
    "\n",
    "X_train, X_test, y_train, y_test = train_test_split(data, y, stratify=target)"
   ]
  },
  {
   "cell_type": "markdown",
   "metadata": {},
   "source": [
    "##### Naive Bayes"
   ]
  },
  {
   "cell_type": "code",
   "execution_count": 30,
   "metadata": {},
   "outputs": [
    {
     "name": "stdout",
     "output_type": "stream",
     "text": [
      "recall score = 0.6154753131908622\n",
      "precision score = 0.6942643391521197\n"
     ]
    },
    {
     "data": {
      "text/plain": [
       "<sklearn.metrics._plot.confusion_matrix.ConfusionMatrixDisplay at 0x7fec77ed7b20>"
      ]
     },
     "execution_count": 30,
     "metadata": {},
     "output_type": "execute_result"
    },
    {
     "data": {
      "image/png": "[encoded data removed]",
      "text/plain": [
       "<Figure size 432x288 with 2 Axes>"
      ]
     },
     "metadata": {
      "needs_background": "light"
     },
     "output_type": "display_data"
    }
   ],
   "source": [
    "gnb_pipe = Pipeline([('gnb', GaussianNB())])\n",
    "gnb_grid = [{'gnb__var_smoothing':[1e-9]}] # Default Parameters\n",
    "gnb_search = GridSearchCV(gnb_pipe, gnb_grid, scoring='recall')\n",
    "\n",
    "gnb_search.fit(X_train, y_train.codes)\n",
    "gnb_preds = gnb_search.predict(X_test)\n",
    "gnb_recall = recall_score(y_test.codes, gnb_preds)\n",
    "gnb_prec = precision_score(y_test.codes, gnb_preds)\n",
    "\n",
    "print(f'recall score = {gnb_recall}')\n",
    "print(f'precision score = {gnb_prec}')\n",
    "plot_confusion_matrix(gnb_search, X_test, y_test.codes)"
   ]
  },
  {
   "cell_type": "markdown",
   "metadata": {},
   "source": [
    "##### K-Nearest Neighbors"
   ]
  },
  {
   "cell_type": "code",
   "execution_count": 31,
   "metadata": {
    "scrolled": true
   },
   "outputs": [
    {
     "name": "stdout",
     "output_type": "stream",
     "text": [
      "score = 0.7638383838383839\n",
      "recall = 0.7092114959469418\n",
      "precision = 0.7582729278285534\n"
     ]
    },
    {
     "data": {
      "text/plain": [
       "<sklearn.metrics._plot.confusion_matrix.ConfusionMatrixDisplay at 0x7fec6157d2b0>"
      ]
     },
     "execution_count": 31,
     "metadata": {},
     "output_type": "execute_result"
    },
    {
     "data": {
      "image/png": "[encoded data removed]",
      "text/plain": [
       "<Figure size 432x288 with 2 Axes>"
      ]
     },
     "metadata": {
      "needs_background": "light"
     },
     "output_type": "display_data"
    }
   ],
   "source": [
    "knn_pipe = Pipeline([('knn', KNeighborsClassifier())])\n",
    "\n",
    "knn_pipe.fit(X_train, y_train.codes)\n",
    "\n",
    "y_preds = knn_pipe.predict(X_test)\n",
    "knn_baseline_report = classification_report(y_test.codes, y_preds, digits=4)\n",
    "knn_baseline_matrix = confusion_matrix(y_test.codes, y_preds, normalize='true')\n",
    "knn_preds = knn_pipe.predict(X_test)\n",
    "knn_recall = recall_score(y_test.codes, knn_preds)\n",
    "\n",
    "print(f'score = {knn_pipe.score(X_test, y_test.codes)}')\n",
    "print(f'recall = {knn_recall}')\n",
    "print(f'precision = {precision_score(y_test.codes, knn_preds)}')\n",
    "plot_confusion_matrix(knn_pipe, X_test, y_test.codes, cmap='Blues')"
   ]
  },
  {
   "cell_type": "markdown",
   "metadata": {},
   "source": [
    "##### Random Forest *Model Selected"
   ]
  },
  {
   "cell_type": "code",
   "execution_count": 33,
   "metadata": {},
   "outputs": [
    {
     "name": "stdout",
     "output_type": "stream",
     "text": [
      "score = 0.7898989898989899\n",
      "recall = 0.7280766396462786\n"
     ]
    },
    {
     "data": {
      "text/plain": [
       "<sklearn.metrics._plot.confusion_matrix.ConfusionMatrixDisplay at 0x7fec7751f7f0>"
      ]
     },
     "execution_count": 33,
     "metadata": {},
     "output_type": "execute_result"
    },
    {
     "data": {
      "image/png": "[encoded data removed]",
      "text/plain": [
       "<Figure size 432x288 with 2 Axes>"
      ]
     },
     "metadata": {
      "needs_background": "light"
     },
     "output_type": "display_data"
    }
   ],
   "source": [
    "rfc_pipe = Pipeline([('rfc', RandomForestClassifier(oob_score=True))])\n",
    "\n",
    "rfc_pipe.fit(X_train, y_train.codes)\n",
    "\n",
    "rfc_preds = rfc_pipe.predict(X_test)\n",
    "rfc_recall = recall_score(y_test.codes, rfc_preds)\n",
    "\n",
    "print(f'score = {rfc_pipe.score(X_test, y_test.codes)}')\n",
    "print(f'recall = {rfc_recall}')\n",
    "\n",
    "plot_confusion_matrix(rfc_pipe, X_test, y_test.codes, cmap='Greens')"
   ]
  },
  {
   "cell_type": "markdown",
   "metadata": {},
   "source": [
    "Used 'GridSearchCV' to tune the hyper parameters (Increases recall by ~.05 compared to baseline) "
   ]
  },
  {
   "cell_type": "code",
   "execution_count": 34,
   "metadata": {
    "scrolled": false
   },
   "outputs": [
    {
     "name": "stdout",
     "output_type": "stream",
     "text": [
      "Fitting 5 folds for each of 6 candidates, totalling 30 fits\n"
     ]
    },
    {
     "name": "stderr",
     "output_type": "stream",
     "text": [
      "[Parallel(n_jobs=4)]: Using backend LokyBackend with 4 concurrent workers.\n",
      "[Parallel(n_jobs=4)]: Done  30 out of  30 | elapsed:  1.0min finished\n"
     ]
    },
    {
     "name": "stdout",
     "output_type": "stream",
     "text": [
      "0.7322033898305085\n",
      "random forest tuned recall = 0.7322033898305085\n",
      "{'rfc__criterion': 'entropy', 'rfc__max_depth': 200, 'rfc__max_features': 'auto', 'rfc__min_samples_split': 2}\n"
     ]
    },
    {
     "data": {
      "text/plain": [
       "<sklearn.metrics._plot.confusion_matrix.ConfusionMatrixDisplay at 0x7fec52c4b0a0>"
      ]
     },
     "execution_count": 34,
     "metadata": {},
     "output_type": "execute_result"
    },
    {
     "data": {
      "image/png": "[encoded data removed]",
      "text/plain": [
       "<Figure size 432x288 with 2 Axes>"
      ]
     },
     "metadata": {
      "needs_background": "light"
     },
     "output_type": "display_data"
    }
   ],
   "source": [
    "rfc_grid = [{'rfc__max_depth': [150, 200, 250], \n",
    "         'rfc__min_samples_split': [2], \n",
    "         'rfc__criterion': ['gini', 'entropy'],\n",
    "         'rfc__max_features': ['auto']}] \n",
    "\n",
    "rfc_gridsearch = GridSearchCV(rfc_pipe, rfc_grid, scoring='recall', cv=5, verbose=2, n_jobs=4) \n",
    "\n",
    "rfc_gridsearch.fit(X_train, y_train.codes)\n",
    "\n",
    "rfc_tuned_preds = rfc_gridsearch.predict(X_test)\n",
    "rfc_tuned_recall = recall_score(y_test.codes, rfc_tuned_preds)\n",
    "\n",
    "print(rfc_gridsearch.score(X_test, y_test.codes))\n",
    "print(f'random forest tuned recall = {rfc_tuned_recall}')\n",
    "print(rfc_gridsearch.best_params_)\n",
    "plot_confusion_matrix(rfc_gridsearch, X_test, y_test.codes, cmap='Reds')"
   ]
  },
  {
   "cell_type": "code",
   "execution_count": 108,
   "metadata": {
    "scrolled": true
   },
   "outputs": [
    {
     "data": {
      "text/plain": [
       "<sklearn.metrics._plot.confusion_matrix.ConfusionMatrixDisplay at 0x7fd54d442c40>"
      ]
     },
     "execution_count": 108,
     "metadata": {},
     "output_type": "execute_result"
    },
    {
     "data": {
      "image/png": "[encoded data removed]",
      "text/plain": [
       "<Figure size 432x288 with 2 Axes>"
      ]
     },
     "metadata": {
      "needs_background": "light"
     },
     "output_type": "display_data"
    }
   ],
   "source": [
    "plot_confusion_matrix(rfc_gridsearch, X_test, y_test.codes, cmap='Reds', normalize='true')"
   ]
  },
  {
   "cell_type": "markdown",
   "metadata": {},
   "source": [
    "##### XGBoost Classifier"
   ]
  },
  {
   "cell_type": "code",
   "execution_count": 35,
   "metadata": {
    "scrolled": true
   },
   "outputs": [
    {
     "name": "stdout",
     "output_type": "stream",
     "text": [
      "training score = 0.7997530864197531\n",
      "testing score = 0.788080808080808\n",
      "0.6913780397936625\n"
     ]
    },
    {
     "data": {
      "text/plain": [
       "<sklearn.metrics._plot.confusion_matrix.ConfusionMatrixDisplay at 0x7fec615893a0>"
      ]
     },
     "execution_count": 35,
     "metadata": {},
     "output_type": "execute_result"
    },
    {
     "data": {
      "image/png": "[encoded data removed]",
      "text/plain": [
       "<Figure size 432x288 with 2 Axes>"
      ]
     },
     "metadata": {
      "needs_background": "light"
     },
     "output_type": "display_data"
    }
   ],
   "source": [
    "# Baseline scores using XGBoost\n",
    "\n",
    "xg_pipe = Pipeline([('xg', XGBClassifier())])\n",
    "\n",
    "xg_pipe.fit(X_train, y_train.codes)\n",
    "\n",
    "print(f'training score = {xg_pipe.score(X_train, y_train.codes)}')\n",
    "print(f'testing score = {xg_pipe.score(X_test, y_test.codes)}')\n",
    "\n",
    "xg_preds = xg_pipe.predict(X_test)\n",
    "xg_baseline_recall = recall_score(y_test.codes, xg_preds)\n",
    "print(xg_baseline_recall)\n",
    "\n",
    "plot_confusion_matrix(xg_pipe, X_test, y_test.codes)"
   ]
  },
  {
   "cell_type": "code",
   "execution_count": 36,
   "metadata": {},
   "outputs": [
    {
     "name": "stdout",
     "output_type": "stream",
     "text": [
      "Fitting 5 folds for each of 8 candidates, totalling 40 fits\n",
      "[CV] xg__booster=gbtree, xg__eta=0.2, xg__gamma=0, xg__max_depth=4 ...\n"
     ]
    },
    {
     "name": "stderr",
     "output_type": "stream",
     "text": [
      "[Parallel(n_jobs=1)]: Using backend SequentialBackend with 1 concurrent workers.\n"
     ]
    },
    {
     "name": "stdout",
     "output_type": "stream",
     "text": [
      "[CV]  xg__booster=gbtree, xg__eta=0.2, xg__gamma=0, xg__max_depth=4, total=   4.2s\n",
      "[CV] xg__booster=gbtree, xg__eta=0.2, xg__gamma=0, xg__max_depth=4 ...\n"
     ]
    },
    {
     "name": "stderr",
     "output_type": "stream",
     "text": [
      "[Parallel(n_jobs=1)]: Done   1 out of   1 | elapsed:    4.2s remaining:    0.0s\n"
     ]
    },
    {
     "name": "stdout",
     "output_type": "stream",
     "text": [
      "[CV]  xg__booster=gbtree, xg__eta=0.2, xg__gamma=0, xg__max_depth=4, total=   4.1s\n",
      "[CV] xg__booster=gbtree, xg__eta=0.2, xg__gamma=0, xg__max_depth=4 ...\n",
      "[CV]  xg__booster=gbtree, xg__eta=0.2, xg__gamma=0, xg__max_depth=4, total=   4.0s\n",
      "[CV] xg__booster=gbtree, xg__eta=0.2, xg__gamma=0, xg__max_depth=4 ...\n",
      "[CV]  xg__booster=gbtree, xg__eta=0.2, xg__gamma=0, xg__max_depth=4, total=   4.1s\n",
      "[CV] xg__booster=gbtree, xg__eta=0.2, xg__gamma=0, xg__max_depth=4 ...\n",
      "[CV]  xg__booster=gbtree, xg__eta=0.2, xg__gamma=0, xg__max_depth=4, total=   4.1s\n",
      "[CV] xg__booster=gbtree, xg__eta=0.2, xg__gamma=0, xg__max_depth=8 ...\n",
      "[CV]  xg__booster=gbtree, xg__eta=0.2, xg__gamma=0, xg__max_depth=8, total=   7.5s\n",
      "[CV] xg__booster=gbtree, xg__eta=0.2, xg__gamma=0, xg__max_depth=8 ...\n",
      "[CV]  xg__booster=gbtree, xg__eta=0.2, xg__gamma=0, xg__max_depth=8, total=   7.5s\n",
      "[CV] xg__booster=gbtree, xg__eta=0.2, xg__gamma=0, xg__max_depth=8 ...\n",
      "[CV]  xg__booster=gbtree, xg__eta=0.2, xg__gamma=0, xg__max_depth=8, total=   7.5s\n",
      "[CV] xg__booster=gbtree, xg__eta=0.2, xg__gamma=0, xg__max_depth=8 ...\n",
      "[CV]  xg__booster=gbtree, xg__eta=0.2, xg__gamma=0, xg__max_depth=8, total=   7.5s\n",
      "[CV] xg__booster=gbtree, xg__eta=0.2, xg__gamma=0, xg__max_depth=8 ...\n",
      "[CV]  xg__booster=gbtree, xg__eta=0.2, xg__gamma=0, xg__max_depth=8, total=   7.2s\n",
      "[CV] xg__booster=gbtree, xg__eta=0.2, xg__gamma=1, xg__max_depth=4 ...\n",
      "[CV]  xg__booster=gbtree, xg__eta=0.2, xg__gamma=1, xg__max_depth=4, total=   4.0s\n",
      "[CV] xg__booster=gbtree, xg__eta=0.2, xg__gamma=1, xg__max_depth=4 ...\n",
      "[CV]  xg__booster=gbtree, xg__eta=0.2, xg__gamma=1, xg__max_depth=4, total=   4.1s\n",
      "[CV] xg__booster=gbtree, xg__eta=0.2, xg__gamma=1, xg__max_depth=4 ...\n",
      "[CV]  xg__booster=gbtree, xg__eta=0.2, xg__gamma=1, xg__max_depth=4, total=   4.2s\n",
      "[CV] xg__booster=gbtree, xg__eta=0.2, xg__gamma=1, xg__max_depth=4 ...\n",
      "[CV]  xg__booster=gbtree, xg__eta=0.2, xg__gamma=1, xg__max_depth=4, total=   4.1s\n",
      "[CV] xg__booster=gbtree, xg__eta=0.2, xg__gamma=1, xg__max_depth=4 ...\n",
      "[CV]  xg__booster=gbtree, xg__eta=0.2, xg__gamma=1, xg__max_depth=4, total=   4.0s\n",
      "[CV] xg__booster=gbtree, xg__eta=0.2, xg__gamma=1, xg__max_depth=8 ...\n",
      "[CV]  xg__booster=gbtree, xg__eta=0.2, xg__gamma=1, xg__max_depth=8, total=   7.3s\n",
      "[CV] xg__booster=gbtree, xg__eta=0.2, xg__gamma=1, xg__max_depth=8 ...\n",
      "[CV]  xg__booster=gbtree, xg__eta=0.2, xg__gamma=1, xg__max_depth=8, total=   7.3s\n",
      "[CV] xg__booster=gbtree, xg__eta=0.2, xg__gamma=1, xg__max_depth=8 ...\n",
      "[CV]  xg__booster=gbtree, xg__eta=0.2, xg__gamma=1, xg__max_depth=8, total=   7.4s\n",
      "[CV] xg__booster=gbtree, xg__eta=0.2, xg__gamma=1, xg__max_depth=8 ...\n",
      "[CV]  xg__booster=gbtree, xg__eta=0.2, xg__gamma=1, xg__max_depth=8, total=   7.1s\n",
      "[CV] xg__booster=gbtree, xg__eta=0.2, xg__gamma=1, xg__max_depth=8 ...\n",
      "[CV]  xg__booster=gbtree, xg__eta=0.2, xg__gamma=1, xg__max_depth=8, total=   7.3s\n",
      "[CV] xg__booster=gbtree, xg__eta=0.4, xg__gamma=0, xg__max_depth=4 ...\n",
      "[CV]  xg__booster=gbtree, xg__eta=0.4, xg__gamma=0, xg__max_depth=4, total=   3.9s\n",
      "[CV] xg__booster=gbtree, xg__eta=0.4, xg__gamma=0, xg__max_depth=4 ...\n",
      "[CV]  xg__booster=gbtree, xg__eta=0.4, xg__gamma=0, xg__max_depth=4, total=   4.0s\n",
      "[CV] xg__booster=gbtree, xg__eta=0.4, xg__gamma=0, xg__max_depth=4 ...\n",
      "[CV]  xg__booster=gbtree, xg__eta=0.4, xg__gamma=0, xg__max_depth=4, total=   4.0s\n",
      "[CV] xg__booster=gbtree, xg__eta=0.4, xg__gamma=0, xg__max_depth=4 ...\n",
      "[CV]  xg__booster=gbtree, xg__eta=0.4, xg__gamma=0, xg__max_depth=4, total=   4.0s\n",
      "[CV] xg__booster=gbtree, xg__eta=0.4, xg__gamma=0, xg__max_depth=4 ...\n",
      "[CV]  xg__booster=gbtree, xg__eta=0.4, xg__gamma=0, xg__max_depth=4, total=   4.1s\n",
      "[CV] xg__booster=gbtree, xg__eta=0.4, xg__gamma=0, xg__max_depth=8 ...\n",
      "[CV]  xg__booster=gbtree, xg__eta=0.4, xg__gamma=0, xg__max_depth=8, total=   7.0s\n",
      "[CV] xg__booster=gbtree, xg__eta=0.4, xg__gamma=0, xg__max_depth=8 ...\n",
      "[CV]  xg__booster=gbtree, xg__eta=0.4, xg__gamma=0, xg__max_depth=8, total=   7.1s\n",
      "[CV] xg__booster=gbtree, xg__eta=0.4, xg__gamma=0, xg__max_depth=8 ...\n",
      "[CV]  xg__booster=gbtree, xg__eta=0.4, xg__gamma=0, xg__max_depth=8, total=   7.3s\n",
      "[CV] xg__booster=gbtree, xg__eta=0.4, xg__gamma=0, xg__max_depth=8 ...\n",
      "[CV]  xg__booster=gbtree, xg__eta=0.4, xg__gamma=0, xg__max_depth=8, total=   7.6s\n",
      "[CV] xg__booster=gbtree, xg__eta=0.4, xg__gamma=0, xg__max_depth=8 ...\n",
      "[CV]  xg__booster=gbtree, xg__eta=0.4, xg__gamma=0, xg__max_depth=8, total=   7.6s\n",
      "[CV] xg__booster=gbtree, xg__eta=0.4, xg__gamma=1, xg__max_depth=4 ...\n",
      "[CV]  xg__booster=gbtree, xg__eta=0.4, xg__gamma=1, xg__max_depth=4, total=   4.1s\n",
      "[CV] xg__booster=gbtree, xg__eta=0.4, xg__gamma=1, xg__max_depth=4 ...\n",
      "[CV]  xg__booster=gbtree, xg__eta=0.4, xg__gamma=1, xg__max_depth=4, total=   4.2s\n",
      "[CV] xg__booster=gbtree, xg__eta=0.4, xg__gamma=1, xg__max_depth=4 ...\n",
      "[CV]  xg__booster=gbtree, xg__eta=0.4, xg__gamma=1, xg__max_depth=4, total=   4.2s\n",
      "[CV] xg__booster=gbtree, xg__eta=0.4, xg__gamma=1, xg__max_depth=4 ...\n",
      "[CV]  xg__booster=gbtree, xg__eta=0.4, xg__gamma=1, xg__max_depth=4, total=   4.0s\n",
      "[CV] xg__booster=gbtree, xg__eta=0.4, xg__gamma=1, xg__max_depth=4 ...\n",
      "[CV]  xg__booster=gbtree, xg__eta=0.4, xg__gamma=1, xg__max_depth=4, total=   4.1s\n",
      "[CV] xg__booster=gbtree, xg__eta=0.4, xg__gamma=1, xg__max_depth=8 ...\n",
      "[CV]  xg__booster=gbtree, xg__eta=0.4, xg__gamma=1, xg__max_depth=8, total=   7.7s\n",
      "[CV] xg__booster=gbtree, xg__eta=0.4, xg__gamma=1, xg__max_depth=8 ...\n",
      "[CV]  xg__booster=gbtree, xg__eta=0.4, xg__gamma=1, xg__max_depth=8, total=   7.5s\n",
      "[CV] xg__booster=gbtree, xg__eta=0.4, xg__gamma=1, xg__max_depth=8 ...\n",
      "[CV]  xg__booster=gbtree, xg__eta=0.4, xg__gamma=1, xg__max_depth=8, total=   7.5s\n",
      "[CV] xg__booster=gbtree, xg__eta=0.4, xg__gamma=1, xg__max_depth=8 ...\n",
      "[CV]  xg__booster=gbtree, xg__eta=0.4, xg__gamma=1, xg__max_depth=8, total=   7.6s\n",
      "[CV] xg__booster=gbtree, xg__eta=0.4, xg__gamma=1, xg__max_depth=8 ...\n",
      "[CV]  xg__booster=gbtree, xg__eta=0.4, xg__gamma=1, xg__max_depth=8, total=   7.6s\n"
     ]
    },
    {
     "name": "stderr",
     "output_type": "stream",
     "text": [
      "[Parallel(n_jobs=1)]: Done  40 out of  40 | elapsed:  3.8min finished\n"
     ]
    },
    {
     "name": "stdout",
     "output_type": "stream",
     "text": [
      "training score = 0.7315779131460012\n",
      "testing score = 0.7127487103905674\n",
      "recall = 0.7127487103905674\n"
     ]
    },
    {
     "data": {
      "text/plain": [
       "<sklearn.metrics._plot.confusion_matrix.ConfusionMatrixDisplay at 0x7fec6451cbb0>"
      ]
     },
     "execution_count": 36,
     "metadata": {},
     "output_type": "execute_result"
    },
    {
     "data": {
      "image/png": "[encoded data removed]",
      "text/plain": [
       "<Figure size 432x288 with 2 Axes>"
      ]
     },
     "metadata": {
      "needs_background": "light"
     },
     "output_type": "display_data"
    }
   ],
   "source": [
    "xg_grid = [{'xg__booster' : ['gbtree'], # gbtree is default\n",
    "           'xg__eta' : [.2, .4], # .3 is default # LEARNING RATE\n",
    "           'xg__gamma' : [0, 1], # 0 is default\n",
    "           'xg__max_depth' : [4, 8]}] # 6 is default\n",
    "\n",
    "xg_gridsearch = GridSearchCV(xg_pipe, xg_grid, scoring='recall', cv=5) # verbose=2, n_jobs = 2\n",
    "xg_gridsearch.fit(X_train, y_train.codes)\n",
    "\n",
    "print(f'training score = {xg_gridsearch.score(X_train, y_train.codes)}')\n",
    "print(f'testing score = {xg_gridsearch.score(X_test, y_test.codes)}')\n",
    "\n",
    "xg_tuned_preds = xg_gridsearch.predict(X_test)\n",
    "xg_tuned_recall = recall_score(y_test.codes, xg_tuned_preds)\n",
    "\n",
    "print(f'recall = {xg_tuned_recall}')\n",
    "print(f'precision = {precision_score(y_test.codes, xg_tuned_preds)}')\n",
    "\n",
    "plot_confusion_matrix(xg_gridsearch, X_test, y_test.codes)"
   ]
  },
  {
   "cell_type": "markdown",
   "metadata": {},
   "source": [
    "##### Support Vector Machine"
   ]
  },
  {
   "cell_type": "code",
   "execution_count": 37,
   "metadata": {},
   "outputs": [
    {
     "name": "stdout",
     "output_type": "stream",
     "text": [
      "training scores = 0.8041301907968574\n",
      "testing scores = 0.7903030303030303\n",
      "recall = 0.6972733971997053\n"
     ]
    }
   ],
   "source": [
    "svm_pipe = Pipeline([('svm', SVC())])\n",
    "\n",
    "svm_pipe.fit(X_train, y_train.codes)\n",
    "svm_bl_preds = svm_pipe.predict(X_test)\n",
    "\n",
    "print(f'training scores = {svm_pipe.score(X_train, y_train.codes)}')\n",
    "print(f'testing scores = {svm_pipe.score(X_test, y_test.codes)}')\n",
    "print(f'recall = {recall_score(y_test.codes, svm_bl_preds)}')\n",
    "print(f'precision = {precision_score(y_test.codes, svm_bl_preds)}')\n",
    "\n",
    "plot_confusion_matrix(svm_pipe, X_test, y_test.codes)"
   ]
  },
  {
   "cell_type": "code",
   "execution_count": null,
   "metadata": {
    "scrolled": true
   },
   "outputs": [],
   "source": [
    "svm_grid = [{'svm__kernel': ['poly', 'rbf'],\n",
    "             'svm__degree': [2, 3, 4],\n",
    "             'svm__decision_function_shape': ['ovo', 'ovr'],\n",
    "             'svm__gamma' : [.1, .2],\n",
    "             'svm__C' : [.1, 1, 10]}]\n",
    "\n",
    "svm_gridsearch = GridSearchCV(svm_pipe, svm_grid, scoring='recall', cv=5) #verbose=2, n_jobs=4\n",
    "svm_gridsearch.fit(X_train, y_train.codes)\n",
    "\n",
    "svm_gs_preds = svm_gridsearch.predict(X_test)\n",
    "\n",
    "print(svm_gridsearch.best_params_)\n",
    "print(f'training score = {svm_gridsearch.score(X_train, y_train.codes)}')\n",
    "print(f'testing score = {svm_gridsearch.score(X_test, y_test.codes)}')\n",
    "print(f'recall = {recall_score(y_test.codes, svm_gs_preds)}')\n",
    "print(f'precision = {precision_score(y_test.codes, svm_gs_preds)}')\n",
    "\n",
    "plot_confusion_matrix(svm_gridsearch, X_test, y_test.codes)"
   ]
  }
 ],
 "metadata": {
  "kernelspec": {
   "display_name": "Python (learn-env)",
   "language": "python",
   "name": "learn-env"
  },
  "language_info": {
   "codemirror_mode": {
    "name": "ipython",
    "version": 3
   },
   "file_extension": ".py",
   "mimetype": "text/x-python",
   "name": "python",
   "nbconvert_exporter": "python",
   "pygments_lexer": "ipython3",
   "version": "3.8.5"
  }
 },
 "nbformat": 4,
 "nbformat_minor": 4
}
